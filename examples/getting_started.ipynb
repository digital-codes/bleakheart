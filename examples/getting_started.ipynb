{
 "cells": [
  {
   "cell_type": "markdown",
   "id": "7bb55660",
   "metadata": {},
   "source": [
    "# Getting Started with BleakHeart\n",
    "\n",
    "This notebook is a quick introduction to the BleakHeart package and its supported workflows. \n",
    "\n",
    "Since recent versions of the IPython kernel come with ```asyncio``` integration, you do not need to start or manage your own event loop; you can simply go ahead and ```await``` Bleak and BleakHeart coroutines in any cell. This makes it easier to explore the basic BleakHeart functionality. Stand-alone examples are provided in the ```examples``` directory and referenced here; much of their relatively higher complexity does not depend on BleakHeart, but rather comes from the need to manage keyboard input/output in an asynchronous setting under different operating systems. Therefore, I recommend that you start here and only go through the stand-alone examples after reviewing the basic workflows."
   ]
  },
  {
   "cell_type": "code",
   "execution_count": null,
   "id": "03cea93b-ee39-42e1-89c3-4cb59255c68c",
   "metadata": {},
   "outputs": [],
   "source": [
    "## If you do not have bleakheart installed in your environment, you may want to uncomment the lines below \n",
    "## and run this cell in order to install it. This will also install Bleak.\n",
    "#import sys\n",
    "#!{sys.executable} -m pip install bleakheart"
   ]
  },
  {
   "cell_type": "code",
   "execution_count": null,
   "id": "bb2d5a61",
   "metadata": {},
   "outputs": [],
   "source": [
    "from bleak import BleakScanner, BleakClient\n",
    "import asyncio as aio\n",
    "import bleakheart as bh"
   ]
  },
  {
   "cell_type": "markdown",
   "id": "304d0d87-0a17-4e00-a67d-d23f0624ca09",
   "metadata": {},
   "source": [
    "## Connecting to the sensor"
   ]
  },
  {
   "cell_type": "markdown",
   "id": "b5bed22c-3ed6-440b-81b7-85a27abc5b25",
   "metadata": {},
   "source": [
    "The following code connects to the Polar H10. Make sure the Bluetooth adapter on your computer is powered on and that the sensor is making good contact with your skin. See the [bleak documentation](https://bleak.readthedocs.io/en/latest/) for more details."
   ]
  },
  {
   "cell_type": "code",
   "execution_count": null,
   "id": "67a0a8f7",
   "metadata": {},
   "outputs": [],
   "source": [
    "## Find your sensor and connect to it\n",
    "# edit this line if you have another compatible sensor\n",
    "device= await BleakScanner.find_device_by_filter(lambda dev, adv: dev.name and \"polar\" in dev.name.lower())\n",
    "if device==None: \n",
    "    print(\"Polar device not found\")\n",
    "client= BleakClient(device)\n",
    "await client.connect()\n",
    "if not client.is_connected:\n",
    "    print(\"Connection failed\")\n",
    "else:\n",
    "    print(f\"Connected to {device.name}\")"
   ]
  },
  {
   "cell_type": "markdown",
   "id": "8a5a0b28-229a-46b7-b69e-1b5cd642b61f",
   "metadata": {},
   "source": [
    "## Checking the battery level\n",
    "\n",
    "You can easily check the battery level of the device by using the ```BatteryLevel``` class. This class should work with all devices that implement the BLE Battery Service Specification. As the ```read()``` method is a coroutine, it needs to be awaited."
   ]
  },
  {
   "cell_type": "code",
   "execution_count": null,
   "id": "180c8249-ec81-4ae5-8996-4d556291a92f",
   "metadata": {},
   "outputs": [],
   "source": [
    "batterylevel= await bh.BatteryLevel(client).read()\n",
    "batterylevel"
   ]
  },
  {
   "cell_type": "code",
   "execution_count": null,
   "id": "e20a9110-13ef-4baf-baba-381d030fba5d",
   "metadata": {},
   "outputs": [],
   "source": [
    "# Run this cell to view the documentation for the BatteryLevel class\n",
    "help(bh.BatteryLevel)"
   ]
  },
  {
   "cell_type": "markdown",
   "id": "79c4e716-af7c-431c-9384-03eb532558e9",
   "metadata": {},
   "source": [
    "## Heart rate monitoring"
   ]
  },
  {
   "cell_type": "markdown",
   "id": "e5b278f2-9bd2-4cbd-a7d8-c7cb807561f5",
   "metadata": {},
   "source": [
    "The ```HeartRate``` class allows reading the average heart rate and RR intervals as transmitted by the sensor. Frames are returned in the following format:\n",
    "```\n",
    "('HR', tstamp, (avghr, rrlist), energy)\n",
    "```\n",
    " where 'HR' is a constant string, tstamp is the (client) time stamp in ns,  avghr the average heart rate as detected by the sensor, rrlist is a list of RR values in the frame (in ms, supported by the H10), and energy is the energy expenditure (in kJoule, not supported by the H10).\n",
    " \n",
    "If the constructor parameter ```unpack``` is True, RR intervals are split into separate tuples and data is formatted as follows:\n",
    "```\n",
    "('HR', t_est, (hr, rr), energy)\n",
    "```\n",
    "where t_est is the estimated time stamp of the individual heartbeat, and hr can be either the average heart rate returned by the sensor or the instant heart rate as computed from the specific RR interval, according to constructor parameter ```instant_rate```.\n"
   ]
  },
  {
   "cell_type": "markdown",
   "id": "fc7432d2-3e78-40bf-a2e6-8f8923fa031a",
   "metadata": {},
   "source": [
    "### Simplest workflow: callback"
   ]
  },
  {
   "cell_type": "markdown",
   "id": "9d1b9ae6-7a44-4295-8f99-2eea9fec7573",
   "metadata": {},
   "source": [
    "In the simplest workflow, a callback is passed the decoded frames one at a time as they are received. Here we use the iPyhton ```display``` function as the callback in order to visualise the frames:"
   ]
  },
  {
   "cell_type": "code",
   "execution_count": null,
   "id": "a143eb48-c975-433b-ac1c-217a1427a98a",
   "metadata": {},
   "outputs": [],
   "source": [
    "heartrate=bh.HeartRate(client, callback=display, instant_rate=True, unpack=True)"
   ]
  },
  {
   "cell_type": "markdown",
   "id": "8f76a598-5b8b-41e2-9ee5-282361f2d3b4",
   "metadata": {},
   "source": [
    "The following code will acquire your heart rate for 5 seconds, and print the frames. Try changing ```instant_rate``` and then ```unpack``` to ```False``` in the cell above and see what happens (note that instant_rate==True is only supported when unpack==True)."
   ]
  },
  {
   "cell_type": "code",
   "execution_count": null,
   "id": "f8e79b6f-fb6c-4740-9db6-7c6f552f18b1",
   "metadata": {},
   "outputs": [],
   "source": [
    "# start notifications; bleakheart will start sending data to\n",
    "# the callback\n",
    "await heartrate.start_notify()\n",
    "await aio.sleep(5)\n",
    "await heartrate.stop_notify()"
   ]
  },
  {
   "cell_type": "markdown",
   "id": "1f08d68e-ddac-48a6-ac87-084f4aa12ac9",
   "metadata": {},
   "source": [
    "For a stand-alone example of this workflow, see ```heartrate_callback.py```"
   ]
  },
  {
   "cell_type": "markdown",
   "id": "30beaefa-6f0e-4111-9871-98872013eb7a",
   "metadata": {},
   "source": [
    "### Producer-consumer model: asynchronous queue"
   ]
  },
  {
   "cell_type": "markdown",
   "id": "73a5ecd9-27a2-4daa-ad3c-b2bb94b1088e",
   "metadata": {},
   "source": [
    "Another possible workflow involves an asynchronous queue to which the BLE client routine (the *producer*) writes frames, that are then available for your application to use:"
   ]
  },
  {
   "cell_type": "code",
   "execution_count": null,
   "id": "d2301be9-8eea-48f4-9f07-145529875f9f",
   "metadata": {},
   "outputs": [],
   "source": [
    "# Hold heart rate frames\n",
    "hrqueue=aio.Queue()"
   ]
  },
  {
   "cell_type": "markdown",
   "id": "cd8ea0fb-f21f-42e4-aeaa-4c508b7f59e4",
   "metadata": {},
   "source": [
    "The producer task starts notifications on the server, waits for a few seconds and then stops them. A special token is then pushed to the queue to signal the consumer task (see below) that data are over and it can exit."
   ]
  },
  {
   "cell_type": "code",
   "execution_count": null,
   "id": "f62f3895-1acb-4a09-b7fb-b52512eb834b",
   "metadata": {},
   "outputs": [],
   "source": [
    "async def producer_task():\n",
    "    heartrate=bh.HeartRate(client, queue=hrqueue, instant_rate=True, unpack=True)\n",
    "    await heartrate.start_notify()\n",
    "    await aio.sleep(5)\n",
    "    await heartrate.stop_notify()\n",
    "    # inform the consumer process that data are over\n",
    "    await hrqueue.put('END')"
   ]
  },
  {
   "cell_type": "markdown",
   "id": "cdeace7f-85c7-48f6-8ae0-f862a049068f",
   "metadata": {},
   "source": [
    "Awaiting the producer task fills up the queue with data:"
   ]
  },
  {
   "cell_type": "code",
   "execution_count": null,
   "id": "2c2c4fe9-e929-4f9b-afbc-0940b62efbce",
   "metadata": {},
   "outputs": [],
   "source": [
    "await producer_task()\n",
    "hrqueue"
   ]
  },
  {
   "cell_type": "markdown",
   "id": "8fe91405-e435-432f-b571-1b524c233e60",
   "metadata": {},
   "source": [
    "This is the consumer task, that simply prints each frame:"
   ]
  },
  {
   "cell_type": "code",
   "execution_count": null,
   "id": "a741fe27-512b-4b39-a059-7204602904cb",
   "metadata": {},
   "outputs": [],
   "source": [
    "async def consumer_task():\n",
    "    while True:\n",
    "        frame=await hrqueue.get()\n",
    "        # mark the frame as processed - useful if any tasks are \"joining\" the queue\n",
    "        hrqueue.task_done()\n",
    "        if frame=='END':\n",
    "            break\n",
    "        print(frame)"
   ]
  },
  {
   "cell_type": "markdown",
   "id": "4a9145cf-52f2-444c-b037-5fab5f1373b5",
   "metadata": {},
   "source": [
    "Awaiting the consumer task causes the frames to be pulled from the queue and printed out"
   ]
  },
  {
   "cell_type": "code",
   "execution_count": null,
   "id": "f6ca906b-c3bd-46bf-9c44-97d42b501873",
   "metadata": {},
   "outputs": [],
   "source": [
    "await consumer_task()"
   ]
  },
  {
   "cell_type": "markdown",
   "id": "196961e0-0f5c-462a-963f-81d4502b12eb",
   "metadata": {},
   "source": [
    "Of course, in your application you will generally want to run the producer and consumer tasks concurrently - using ```gather``` is a covenient way to do just that."
   ]
  },
  {
   "cell_type": "code",
   "execution_count": null,
   "id": "669760b1-aba8-444e-88f5-bc68652efed9",
   "metadata": {},
   "outputs": [],
   "source": [
    "# Purge any residual tasks from the queue to ensure a clean run\n",
    "while not hrqueue.empty():\n",
    "    hrqueue.get_nowait()\n",
    "    hrqueue.task_done()\n",
    "    \n",
    "# Run producer and consumer tasks. Both tasks return None\n",
    "await aio.gather(producer_task(), consumer_task())"
   ]
  },
  {
   "cell_type": "markdown",
   "id": "408b82eb-a577-4bab-878d-6c545f5de53b",
   "metadata": {},
   "source": [
    "For a complete stand-alone example of this workflow, see ```heartrate_queue.py```."
   ]
  },
  {
   "cell_type": "code",
   "execution_count": null,
   "id": "86b35d99-71d4-424d-a105-ec6ba83e7625",
   "metadata": {},
   "outputs": [],
   "source": [
    "# Run this cell to view the documentation for the HeartRate class\n",
    "help(bh.HeartRate)"
   ]
  },
  {
   "cell_type": "markdown",
   "id": "7f987dd1-f73a-4384-87cf-15c1b2f10f90",
   "metadata": {},
   "source": [
    "## The Polar Measurement Data API"
   ]
  },
  {
   "cell_type": "markdown",
   "id": "71296071-76cc-458a-9755-59f5e6cf9a95",
   "metadata": {},
   "source": [
    "Polar sensors implement the proprietary Polar Measurement Data API. On the Polar H10, this allows accessing ECG and Accelerometer data. On other devices, photoplethysmography, peak-to-peak intervals, gyroscope and magnetometer data may be available. "
   ]
  },
  {
   "cell_type": "markdown",
   "id": "200280a0-eb04-4671-a0a5-e3baa29f5247",
   "metadata": {},
   "source": [
    "### Listing the measurements supported by your device"
   ]
  },
  {
   "cell_type": "markdown",
   "id": "1470a365-0881-49cb-875b-989d3d4e91de",
   "metadata": {},
   "source": [
    "The ```available_measurements``` asynchronous method returns a list of available measurements on your device. Currently, BleakHeart only decodes ECG and the type of Accelerometer frames used by the Polar H10; other frame types are returned as raw bytearrays."
   ]
  },
  {
   "cell_type": "code",
   "execution_count": null,
   "id": "89ecbe76-d7d3-4833-9d14-ee68299fbf94",
   "metadata": {},
   "outputs": [],
   "source": [
    "measurements = await bh.PolarMeasurementData(client).available_measurements()\n",
    "measurements"
   ]
  },
  {
   "cell_type": "markdown",
   "id": "c2c53123-66b7-4a81-bd6e-521ab026100e",
   "metadata": {},
   "source": [
    "### Acquiring ECG data"
   ]
  },
  {
   "cell_type": "markdown",
   "id": "f2fa2c89-2b31-4590-ab38-6dadc7f13438",
   "metadata": {},
   "source": [
    "The ```available_settings``` async method returns a dictionary of possible settings for a specific measurement. As we see, the only settings available for the ECG on the Polar H10 are a sampling rate of 130Hz and 14-bit precision (BleakHeart converts these 14-bit floats to standard floats for you)."
   ]
  },
  {
   "cell_type": "code",
   "execution_count": null,
   "id": "07bfb1ee-af9b-4ab6-a952-fae5939dc757",
   "metadata": {},
   "outputs": [],
   "source": [
    "settings=await bh.PolarMeasurementData(client).available_settings('ECG')\n",
    "print(\"Request for available ECG settings returned the following:\")\n",
    "for k,v in settings.items():\n",
    "    print(f\"{k}:\\t{v}\")"
   ]
  },
  {
   "cell_type": "markdown",
   "id": "5d55af92-9b5f-4ac2-b5b5-baea0d1194ed",
   "metadata": {},
   "source": [
    "```PolarMeasurementData``` supports both the callback workflow and the consumer-producer model, as seen above. In this example, we will push the frames to an async queue, but we will then use some synchronous code to plot the data."
   ]
  },
  {
   "cell_type": "code",
   "execution_count": null,
   "id": "fb2f3794-6baa-47ec-a3c1-146f033f4d71",
   "metadata": {},
   "outputs": [],
   "source": [
    "ecgqueue=aio.Queue()\n",
    "# ECG frames to be pushed to the queue\n",
    "pmd=bh.PolarMeasurementData(client, ecg_queue=ecgqueue)"
   ]
  },
  {
   "cell_type": "markdown",
   "id": "4a3bca5b-a377-424e-96df-1a459b755d32",
   "metadata": {},
   "source": [
    "Acquisition of a measurement is started and stopped by calling the ```start_streaming``` and ```stop_streaming``` async methods and specifying the requested measurement. The code below will acquire 10 ECG frames (ie, about 5 seconds of electrocardiogram). Note that since it takes some time for the sensor to start streaming the ECG, specifying a short interval such as 5 seconds would offer little control on the actual amount of data received."
   ]
  },
  {
   "cell_type": "code",
   "execution_count": null,
   "id": "6ae6d09e-1e43-4f6d-b9e4-c5be0d979c00",
   "metadata": {},
   "outputs": [],
   "source": [
    "(err_code, err_msg, _) = await pmd.start_streaming('ECG')\n",
    "if err_code!=0:\n",
    "    print(f\"PMD returned an error: {err_msg}\")\n",
    "# acquire at least 10 frames (about 5 seconds)\n",
    "print(\"Streaming .\", end=\"\")\n",
    "while ecgqueue.qsize()<10:\n",
    "    await aio.sleep(1)\n",
    "    print(\".\", end=\"\")\n",
    "print()\n",
    "await pmd.stop_streaming('ECG')"
   ]
  },
  {
   "cell_type": "markdown",
   "id": "3fc5bded-75fb-4977-8ceb-602b0f732e75",
   "metadata": {},
   "source": [
    "The queue should now contain at least 10 frames (but may contain more):"
   ]
  },
  {
   "cell_type": "code",
   "execution_count": null,
   "id": "ff7cc4ef-a5a2-4966-ad6e-86e33ed3e17e",
   "metadata": {},
   "outputs": [],
   "source": [
    "ecgqueue.qsize()"
   ]
  },
  {
   "cell_type": "markdown",
   "id": "2d90d03f-a9f4-4446-9fb6-a396027b3c29",
   "metadata": {},
   "source": [
    "ECG frames are encoded as tuples composed of the 'ECG' tag, the sensor timestamp (in ns) and a list of samples in microVolt. The time stamp refers to the *last* sample of the list."
   ]
  },
  {
   "cell_type": "code",
   "execution_count": null,
   "id": "dbf9d408-0685-47ca-b1a6-8119abb70960",
   "metadata": {},
   "outputs": [],
   "source": [
    "print(ecgqueue.get_nowait())\n",
    "ecgqueue.task_done()"
   ]
  },
  {
   "cell_type": "markdown",
   "id": "f887140a-335b-4b17-8b21-4d2ae46e9f3f",
   "metadata": {},
   "source": [
    "#### Plotting ECG data"
   ]
  },
  {
   "cell_type": "markdown",
   "id": "b7332a96-21d0-475b-900b-7a5cdf1298a1",
   "metadata": {},
   "source": [
    "This section makes use of Matplotlib, that is not a required dependency of BleakHeart. If you do not have Matplotlib available in the current environment, you can install it by uncommenting the appropriate lines in the cell below, according to your package manager."
   ]
  },
  {
   "cell_type": "code",
   "execution_count": null,
   "id": "f49e6779-7052-4bd2-b659-82d7c2f3ba21",
   "metadata": {},
   "outputs": [],
   "source": [
    "## Uncomment these lines to install matplotlib in the current Jupyter kernel using pip\n",
    "#import sys\n",
    "#!{sys.executable} -m pip install matplotlib\n",
    "\n",
    "## Uncomment these lines to install matplotlib in the current Jupyter kernel using conda\n",
    "#import sys\n",
    "#!conda install --yes --prefix {sys.prefix} matplotlib\n",
    "\n",
    "import matplotlib.pyplot as plt\n",
    "%matplotlib inline"
   ]
  },
  {
   "cell_type": "markdown",
   "id": "52e3675c-2794-4059-975f-fbdb80a110b5",
   "metadata": {},
   "source": [
    "We consume the queue using the synchronous method ```get_nowait``` and plot the data using Matplotlib:"
   ]
  },
  {
   "cell_type": "code",
   "execution_count": null,
   "id": "ddeafa70-47f2-4d4c-9f59-7da1bb3b42b8",
   "metadata": {},
   "outputs": [],
   "source": [
    "fig, ax= plt.subplots()\n",
    "ax.set_title(\"ECG\")\n",
    "ax.set_xlabel('s')\n",
    "ax.set_ylabel('mV')\n",
    "signal=[]\n",
    "while not ecgqueue.empty():\n",
    "    frame=ecgqueue.get_nowait()\n",
    "    samples=frame[-1] # a list of samples\n",
    "    signal.extend(samples)\n",
    "    ecgqueue.task_done()\n",
    "# convert to mV\n",
    "signal_mV=[x*1e-3 for x in signal]\n",
    "# time in seconds; sampling frequency is 130Hz\n",
    "t=[x/130.0 for x in range(len(signal_mV))]\n",
    "ax.plot(t, signal_mV)"
   ]
  },
  {
   "cell_type": "markdown",
   "id": "42ccd5a4-c25b-4e44-88b6-1cb183f80666",
   "metadata": {},
   "source": [
    "A complete stand-alone example of the producer-consumer workflow for ECG data can be found in ```ecg_queue.py```."
   ]
  },
  {
   "cell_type": "markdown",
   "id": "0c45bc14-8cb5-400c-97f5-646ba8955c9c",
   "metadata": {},
   "source": [
    "### Acquiring accelerometer data"
   ]
  },
  {
   "cell_type": "markdown",
   "id": "68b3ad4a-5472-4aea-bd46-05e4f4d33eeb",
   "metadata": {},
   "source": [
    "The Polar H10 supports a range of different sampling frequencies and dynamic range choices for Accelerometer data: "
   ]
  },
  {
   "cell_type": "code",
   "execution_count": null,
   "id": "8c78d221-2c13-4b71-8ef2-fe7cf5a2f596",
   "metadata": {},
   "outputs": [],
   "source": [
    "settings=await bh.PolarMeasurementData(client).available_settings('ACC')\n",
    "print(\"Request for available ACC settings returned the following:\")\n",
    "for k,v in settings.items():\n",
    "    print(f\"{k}:\\t{v}\")"
   ]
  },
  {
   "cell_type": "markdown",
   "id": "b4401b6c-bba1-4908-bbdd-4e8306c1e78f",
   "metadata": {},
   "source": [
    "The default BleakHeart settings for Accelerometer data acquisition are as follows: \n",
    "* Sampling rate: 200 Hz\n",
    "* Resolution (precision): 16 bit\n",
    "* Range: -2g to 2g"
   ]
  },
  {
   "cell_type": "code",
   "execution_count": null,
   "id": "5607b835-da1f-40e4-9061-ca8bc57a4bf4",
   "metadata": {},
   "outputs": [],
   "source": [
    "# default settings for the selected measurement\n",
    "bh.PolarMeasurementData.default_settings['ACC']"
   ]
  },
  {
   "cell_type": "markdown",
   "id": "78857baf-01d0-4c1c-8d54-ca82d731e226",
   "metadata": {},
   "source": [
    "Using these defaults, again we declare an async queue onto which Accelerometer frames will be pushed:"
   ]
  },
  {
   "cell_type": "code",
   "execution_count": null,
   "id": "88b5e5e2-f1f0-427d-b790-c3ebb96538ed",
   "metadata": {},
   "outputs": [],
   "source": [
    "accqueue=aio.Queue()\n",
    "# ACC frames wil be pushed to accqueue\n",
    "pmd=bh.PolarMeasurementData(client, acc_queue=accqueue)"
   ]
  },
  {
   "cell_type": "markdown",
   "id": "95479759-6767-45c5-9e5a-e7c753d20adc",
   "metadata": {},
   "source": [
    "Streaming is started and stopped similar to ECG data. At a sampling rate of 200Hz, 20 frames will cover about 5 seconds. "
   ]
  },
  {
   "cell_type": "code",
   "execution_count": null,
   "id": "4a0fe659-0899-4a34-9dce-04b590ba0c89",
   "metadata": {},
   "outputs": [],
   "source": [
    "(err_code, err_msg, _) = await pmd.start_streaming('ACC')\n",
    "if err_code!=0:\n",
    "    print(f\"PMD returned an error: {err_msg}\")\n",
    "# acquire at least 20 frames (about 5 seconds)\n",
    "print(\"Streaming .\", end=\"\")\n",
    "while accqueue.qsize()<20:\n",
    "    await aio.sleep(1)\n",
    "    print(\".\", end=\"\")\n",
    "print()\n",
    "await pmd.stop_streaming('ACC')"
   ]
  },
  {
   "cell_type": "markdown",
   "id": "a452da04-dea3-400e-a728-ac9a075cc8e4",
   "metadata": {},
   "source": [
    "Let's check the length of the queue (note that this may vary):"
   ]
  },
  {
   "cell_type": "code",
   "execution_count": null,
   "id": "a1d10625-ab53-468b-b4d0-9d756bd38c08",
   "metadata": {},
   "outputs": [],
   "source": [
    "accqueue.qsize()"
   ]
  },
  {
   "cell_type": "markdown",
   "id": "25d37c68-c44d-42b9-80b8-6daa6b49f1f3",
   "metadata": {},
   "source": [
    "Accelerometer frames are decoded as tuples with the 'ACC' tag, followed by the sensor timestamp (in ns) of the *last* sample, followed by a list of samples. Each sample is a (x, y, z) tuple with the acceleration along the three axes. Acceleration is returned in units of 1/1000th of the gravity acceleration g."
   ]
  },
  {
   "cell_type": "code",
   "execution_count": null,
   "id": "89913442-af18-4f56-bf7c-5a364daa54aa",
   "metadata": {},
   "outputs": [],
   "source": [
    "display(accqueue.get_nowait())\n",
    "accqueue.task_done()"
   ]
  },
  {
   "cell_type": "markdown",
   "id": "26d5c70d-c536-46c6-81b5-b02508e91ef5",
   "metadata": {},
   "source": [
    "#### Plotting accelerometer data"
   ]
  },
  {
   "cell_type": "markdown",
   "id": "2a770df6-9615-4ab5-b6bb-f609b2d00a92",
   "metadata": {},
   "source": [
    "Again using Matplotlib, we can consume the queue and plot the data:"
   ]
  },
  {
   "cell_type": "code",
   "execution_count": null,
   "id": "0d3a63d5-ca1d-4ab4-a214-961dce1166de",
   "metadata": {},
   "outputs": [],
   "source": [
    "import numpy as np\n",
    "\n",
    "fig, ax= plt.subplots()\n",
    "ax.set_title(\"Acceleration\")\n",
    "ax.set_xlabel('s')\n",
    "ax.set_ylabel('g')\n",
    "acc=[]\n",
    "while not accqueue.empty():\n",
    "    frame=accqueue.get_nowait()\n",
    "    samples=frame[-1] # a list of triples\n",
    "    acc.extend(samples)\n",
    "    accqueue.task_done()\n",
    "# time in s - sampling frequency is 200Hz\n",
    "t=[x/200.0 for x in range(len(acc))]\n",
    "# scale the data to units of g and plot it\n",
    "ax.plot(t, np.array(acc)*1e-3, label=['x axis', 'y azis', 'z axis'])\n",
    "plt.legend()"
   ]
  },
  {
   "cell_type": "markdown",
   "id": "604573d6-019d-4507-8d98-c564908bc8cd",
   "metadata": {},
   "source": [
    "For a stand-alone example of the callback workflow for Accelerometer data, see ```accel_callback.py```."
   ]
  },
  {
   "cell_type": "markdown",
   "id": "9fe1a76d-8c43-41e8-9be1-e3d7cb9b8790",
   "metadata": {},
   "source": [
    "### Acquiring multiple measurements simultaneously"
   ]
  },
  {
   "cell_type": "markdown",
   "id": "1cca01b3-5097-42c6-ab59-26c266dad795",
   "metadata": {},
   "source": [
    "The Polar Measurement Data API and BleakHeart support streaming more than one measurement at the same time. Note that you should only create one instance of ```PolarMeasurementData``` for each device, and use that to control the streaming of all measurements. Here is an example of how to stream both ECG and Accelerometer data, using two separate async queues: "
   ]
  },
  {
   "cell_type": "code",
   "execution_count": null,
   "id": "af73859c-97ae-4706-9dfd-1f97bac65d59",
   "metadata": {},
   "outputs": [],
   "source": [
    "accqueue=aio.Queue()\n",
    "ecgqueue=aio.Queue()\n",
    "pmd=bh.PolarMeasurementData(client, acc_queue=accqueue, ecg_queue=ecgqueue)\n",
    "print(\"Starting streaming...\")\n",
    "(err_code, err_msg, _) = await pmd.start_streaming('ACC')\n",
    "if err_code!=0:\n",
    "    print(f\"PMD returned an error: {err_msg}\")\n",
    "(err_code, err_msg, _) = await pmd.start_streaming('ECG')\n",
    "if err_code!=0:\n",
    "    print(f\"PMD returned an error: {err_msg}\")\n",
    "print(\"Acquiring for 8 seconds...\")\n",
    "await aio.sleep(8)\n",
    "print(\"Done.\")\n",
    "await pmd.stop_streaming('ACC')\n",
    "await pmd.stop_streaming('ECG')"
   ]
  },
  {
   "cell_type": "markdown",
   "id": "ffe7966e-d9c9-4884-bad8-43909370cf25",
   "metadata": {},
   "source": [
    "Note that the number of frames stored on each queue will in general not be the same, and they will generally be interleaved in unpredictable ways during transmission:"
   ]
  },
  {
   "cell_type": "code",
   "execution_count": null,
   "id": "0cc0be84-f3f9-451d-9124-f6d0a7dc1a07",
   "metadata": {},
   "outputs": [],
   "source": [
    "print(accqueue.qsize())\n",
    "print(ecgqueue.qsize())"
   ]
  },
  {
   "cell_type": "markdown",
   "id": "45ea3186-d774-4b8a-bbb4-bd6415ed2e71",
   "metadata": {},
   "source": [
    "It is possible to specifiy the same queue for both measurements, which is useful for instance if the frames have to be processed in order in which they are received. Alternatively, you can specify a callback, that will be passed any measurements for which you have not specified a queue. In both cases, differenent measurements types are easily told apart based on their tag:"
   ]
  },
  {
   "cell_type": "code",
   "execution_count": null,
   "id": "fe1d5b14-2b79-4b01-88df-6a8b7cc8fb58",
   "metadata": {},
   "outputs": [],
   "source": [
    "def handler(frame):\n",
    "    \"\"\" A placeholder callback that prints the type of frame \"\"\"\n",
    "    display(f\"{frame[0]} frame received\")\n",
    "\n",
    "# only create one instance of this class for each device\n",
    "pmd=bh.PolarMeasurementData(client, callback= handler)\n",
    "print(\"Starting streaming...\")\n",
    "# notifications can be started at any time and in any order...\n",
    "(err_code, err_msg, _) = await pmd.start_streaming('ACC')\n",
    "if err_code!=0:\n",
    "    print(f\"PMD returned an error: {err_msg}\")\n",
    "(err_code, err_msg, _) = await pmd.start_streaming('ECG')\n",
    "if err_code!=0:\n",
    "    print(f\"PMD returned an error: {err_msg}\")\n",
    "display(\"Acquiring ECG and ACC for 4 seconds...\")\n",
    "await aio.sleep(4)\n",
    "# ... and they can be stopped in any order\n",
    "await pmd.stop_streaming('ACC')\n",
    "display(\"Acquiring ECG alone for a further 2 seconds...\")\n",
    "await aio.sleep(2) # only ECG packets during this time\n",
    "await pmd.stop_streaming('ECG')\n",
    "print(\"Done.\")"
   ]
  },
  {
   "cell_type": "markdown",
   "id": "12bd7e10-3558-4490-88de-cd38c5cda771",
   "metadata": {},
   "source": [
    " Run the cell below to view the documentation for the PolarMeasurementData class."
   ]
  },
  {
   "cell_type": "code",
   "execution_count": null,
   "id": "78cbdabb-3d6e-4bb3-8925-a615d25995c5",
   "metadata": {},
   "outputs": [],
   "source": [
    "help(bh.PolarMeasurementData)"
   ]
  }
 ],
 "metadata": {
  "kernelspec": {
   "display_name": "Python 3 (ipykernel)",
   "language": "python",
   "name": "python3"
  },
  "language_info": {
   "codemirror_mode": {
    "name": "ipython",
    "version": 3
   },
   "file_extension": ".py",
   "mimetype": "text/x-python",
   "name": "python",
   "nbconvert_exporter": "python",
   "pygments_lexer": "ipython3",
   "version": "3.10.12"
  }
 },
 "nbformat": 4,
 "nbformat_minor": 5
}
